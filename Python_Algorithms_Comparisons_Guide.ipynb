{
  "nbformat": 4,
  "nbformat_minor": 0,
  "metadata": {
    "colab": {
      "provenance": [],
      "collapsed_sections": [
        "c6SS0nqdODZQ",
        "oc7H8AphRJHg",
        "wXPsDSjIRFZS",
        "MsLnc8ILczkI",
        "bRhdGlJbaB9F",
        "EAP5mIfbaFr5"
      ],
      "toc_visible": true,
      "authorship_tag": "ABX9TyNWo2O6vM3dnq+FT2ZE7NKU"
    },
    "kernelspec": {
      "name": "python3",
      "display_name": "Python 3"
    },
    "language_info": {
      "name": "python"
    }
  },
  "cells": [
    {
      "cell_type": "markdown",
      "source": [
        "Guide to Time Complexities:\n",
        "\n",
        "![Pictre](https://miro.medium.com/v2/resize:fit:678/0*ouBkTMgA_yg_Etfz.png)\n",
        "\n",
        "\n",
        "[Complexities are general and are not converted into seconds or any unit of measure of time](https://www.reddit.com/r/AskComputerScience/comments/pichcl/how_time_complexities_are_converted_in_seconds/)"
      ],
      "metadata": {
        "id": "eZIcEo41LZ8A"
      }
    },
    {
      "cell_type": "code",
      "execution_count": 1,
      "metadata": {
        "colab": {
          "base_uri": "https://localhost:8080/"
        },
        "id": "9oj-ZgVKLBPF",
        "outputId": "cd7e56d7-002f-4162-9d79-aace3fd559e6"
      },
      "outputs": [
        {
          "output_type": "stream",
          "name": "stdout",
          "text": [
            "2024-03-02 16:40:50.195819\n"
          ]
        }
      ],
      "source": [
        "import time\n",
        "import datetime\n",
        "print(datetime.datetime.now())"
      ]
    },
    {
      "cell_type": "markdown",
      "source": [
        "# Sorting Algorithms"
      ],
      "metadata": {
        "id": "c6SS0nqdODZQ"
      }
    },
    {
      "cell_type": "code",
      "source": [
        "unsorted_array = [5, 2, 8, 1, 7, 4, 6, 3]\n",
        "\n",
        "start = time.time()\n",
        "x = sorted(unsorted_array)\n",
        "end = time.time()\n",
        "print(end-start)\n",
        "\n",
        "start = time.time()\n",
        "x.sort()\n",
        "end = time.time()\n",
        "print(end-start)\n",
        "\n",
        "assert(x != unsorted_array)\n",
        "assert(x == sorted(unsorted_array))"
      ],
      "metadata": {
        "colab": {
          "base_uri": "https://localhost:8080/"
        },
        "id": "NYWiWbuTRSxS",
        "outputId": "ec71831f-270b-4544-85c9-d426fa2bdc29"
      },
      "execution_count": null,
      "outputs": [
        {
          "output_type": "stream",
          "name": "stdout",
          "text": [
            "9.369850158691406e-05\n",
            "0.00010538101196289062\n"
          ]
        }
      ]
    },
    {
      "cell_type": "markdown",
      "source": [
        "##### Quick Sort"
      ],
      "metadata": {
        "id": "oc7H8AphRJHg"
      }
    },
    {
      "cell_type": "code",
      "source": [
        "def partition(list, low, high):\n",
        "    i = low\n",
        "    pivot = list[high]\n",
        "\n",
        "    for j in range(low, high):\n",
        "        if list[j] <= pivot:\n",
        "            list[i], list[j] = list[j], list[i]\n",
        "            i += 1\n",
        "\n",
        "    list[i], list[high] = list[high], list[i]\n",
        "\n",
        "    return i\n",
        "\n",
        "def quick_sort(list, low, high):\n",
        "    if low < high:\n",
        "        partition_index = partition(list, low, high)\n",
        "        quick_sort(list, low, partition_index - 1)\n",
        "        quick_sort(list, partition_index + 1, high)\n",
        "\n",
        "\n",
        "x = unsorted_array.copy()\n",
        "print(x)\n",
        "y = quick_sort(x, 0, len(x)-1)\n",
        "print(x)"
      ],
      "metadata": {
        "id": "1AT2y5aWRR-S",
        "colab": {
          "base_uri": "https://localhost:8080/"
        },
        "outputId": "d296a849-a7cf-4feb-83d4-6dad80cb383e"
      },
      "execution_count": null,
      "outputs": [
        {
          "output_type": "stream",
          "name": "stdout",
          "text": [
            "[5, 2, 8, 1, 7, 4, 6, 3]\n",
            "[1, 2, 3, 4, 5, 6, 7, 8]\n"
          ]
        }
      ]
    },
    {
      "cell_type": "markdown",
      "source": [
        "##### Bubble Sort, Selection Sort, Insertion Sort"
      ],
      "metadata": {
        "id": "wXPsDSjIRFZS"
      }
    },
    {
      "cell_type": "code",
      "source": [
        "def bubble_sort(arr):\n",
        "  for i in range(len(arr)):\n",
        "    swapped = False\n",
        "\n",
        "    for j in range(len(arr)-1-i):\n",
        "      if(arr[j] > arr[j+1]):\n",
        "        arr[j], arr[j+1] = arr[j+1], arr[j]\n",
        "        swapped = True\n",
        "\n",
        "    if(not swapped):\n",
        "      break\n",
        "\n",
        "  return arr\n",
        "\n",
        "\n",
        "def selection_sort(arr):\n",
        "  for i in range(len(arr)):\n",
        "    min = i\n",
        "\n",
        "    for j in range(i+1, len(arr)):\n",
        "      if(arr[j] < arr[min]):\n",
        "        min = j\n",
        "\n",
        "    arr[i], arr[min] = arr[min], arr[i]\n",
        "\n",
        "  return arr\n",
        "\n",
        "\n",
        "def insertion_sort(arr):\n",
        "  for i in range(len(arr)):\n",
        "    j = i\n",
        "\n",
        "    while(j > 0 and arr[j] < arr[j-1]):\n",
        "      arr[j-1], arr[j] = arr[j], arr[j-1]\n",
        "      j -= 1\n",
        "\n",
        "  return arr"
      ],
      "metadata": {
        "id": "aOa6nAl_N8gr"
      },
      "execution_count": null,
      "outputs": []
    },
    {
      "cell_type": "markdown",
      "source": [
        "##### Test Sorting Algorithms"
      ],
      "metadata": {
        "id": "MsLnc8ILczkI"
      }
    },
    {
      "cell_type": "code",
      "source": [
        "import pytest\n",
        "\n",
        "def test_sort_algos(arr):\n",
        "  times = dict()\n",
        "\n",
        "  # Bubble Sort\n",
        "  data = arr.copy()\n",
        "  assert(data != sorted(data))\n",
        "  start = time.time()\n",
        "  result = bubble_sort(data)\n",
        "  end = time.time()\n",
        "  assert(result == sorted(arr) != arr)\n",
        "  times[\"Bubble Sort\"] = end - start\n",
        "\n",
        "  # Selection Sort\n",
        "  data = arr.copy()\n",
        "  assert(data != sorted(data))\n",
        "  start = time.time()\n",
        "  res = selection_sort(data)\n",
        "  end = time.time()\n",
        "  assert(res == sorted(arr) != arr)\n",
        "  times[\"Selection Sort\"] = end - start\n",
        "\n",
        "  # Insertion Sort\n",
        "  data = arr.copy()\n",
        "  assert(data != sorted(data))\n",
        "  start = time.time()\n",
        "  res = insertion_sort(data)\n",
        "  end = time.time()\n",
        "  assert(res == sorted(arr) != arr)\n",
        "  times[\"Insertion Sort\"] = end - start\n",
        "\n",
        "  # Quick Sort\n",
        "  data = arr.copy()\n",
        "  assert data != sorted(data)\n",
        "  start = time.time()\n",
        "  quick_sort(data, 0, len(data)-1)\n",
        "  end = time.time()\n",
        "  assert data == sorted(arr) != arr\n",
        "  times[\"Quick Sort\"] = end - start\n",
        "\n",
        "  assert(res != arr != data == res)\n",
        "  for i in sorted(times.values()):\n",
        "    print(f\"{list(times.keys())[list(times.values()).index(i)]}: {i}\")\n",
        "\n",
        "test_sort_algos(unsorted_array)"
      ],
      "metadata": {
        "colab": {
          "base_uri": "https://localhost:8080/"
        },
        "id": "j67HyeBacVuM",
        "outputId": "033c3a12-6963-4242-a265-9553c9a78965"
      },
      "execution_count": null,
      "outputs": [
        {
          "output_type": "stream",
          "name": "stdout",
          "text": [
            "Insertion Sort: 7.3909759521484375e-06\n",
            "Selection Sort: 8.344650268554688e-06\n",
            "Bubble Sort: 1.239776611328125e-05\n",
            "Quick Sort: 1.3113021850585938e-05\n"
          ]
        }
      ]
    },
    {
      "cell_type": "markdown",
      "source": [
        "# Algorithms"
      ],
      "metadata": {
        "id": "57J8_8YHRDGL"
      }
    },
    {
      "cell_type": "markdown",
      "source": [
        "*   Binary Search / Linear Search\n",
        "*   Two Pointers\n",
        "*   Depth-First Search / Breadth-First Search\n",
        "*   Tree Traversal (Pre/In/Post Order)\n",
        "*   Sliding Window (Fixed vs. Dynamic)\n",
        "*   Flood Fill\n",
        "*   Kruskal/Prim (Minimum Spanning Tree)\n",
        "*   Backtracking\n",
        "*   Kadane (Maximum Subarray Sum)\n",
        "*   Dijkstra (Shortest Path)\n",
        "\n",
        "\n",
        "*   Bellman-Ford (Shortest Path)\n",
        "*   Floyd-Warshall (Shortest Path)\n",
        "*   Ford-Fulkerson (Max Flow)"
      ],
      "metadata": {
        "id": "HG91ARYMMg5Q"
      }
    },
    {
      "cell_type": "markdown",
      "source": [
        "###### Binary Search / Linear Search / Two Pointers / BFS / DFS / Tree Traversal"
      ],
      "metadata": {
        "id": "NkG_-mkiZklc"
      }
    },
    {
      "cell_type": "code",
      "source": [
        "def linear_search(arr, target): # return index of target\n",
        "  for i in range(len(arr)):\n",
        "    if(arr[i] == target):\n",
        "      return i\n",
        "  return -1\n",
        "\n",
        "def binary_search(arr, target): # return index of target\n",
        "  l, r = 0, len(arr)-1\n",
        "\n",
        "  if(arr[r] == target):\n",
        "    return r\n",
        "  elif(arr[l] == target):\n",
        "    return l\n",
        "\n",
        "  while(l < r):\n",
        "    mid = (l + r) // 2\n",
        "    if(arr[mid] == target):\n",
        "      return mid\n",
        "    elif(arr[mid] < target):\n",
        "      l = mid\n",
        "    elif(arr[mid] > target):\n",
        "      r = mid\n",
        "\n",
        "  return -1\n",
        "\n",
        "def two_pointers(arr, target): # find two values that sum to target\n",
        "  l, r = 0, len(arr)-1\n",
        "\n",
        "  while(l < r):\n",
        "    if(arr[l] + arr[r] == target):\n",
        "      return [l, r]\n",
        "    if(arr[l] + arr[r] < target):\n",
        "      l += 1\n",
        "    if(arr[l] + arr[r] > target):\n",
        "      r -= 1\n",
        "\n",
        "  return -1\n",
        "\n",
        "\n",
        "lst = [1, 2, 3, 4, 5, 6, 7, 8, 9, 10, 11, 12, 13, 14, 15, 16, 17, 18, 19, 20]\n",
        "start_linear = time.time()\n",
        "lin = linear_search(lst, 10)\n",
        "end_linear = time.time()\n",
        "start_binary = time.time()\n",
        "bin = binary_search(lst, 10)\n",
        "end_binary = time.time()\n",
        "assert(-1 != lin == bin != -1)\n",
        "\n",
        "start_two_pointers = time.time()\n",
        "l, r = two_pointers(lst, 24)\n",
        "end_two_pointers = time.time()\n",
        "assert(two_pointers(lst, 23) == [2, 19])\n",
        "assert(two_pointers(lst, 39) == [18, 19])\n",
        "assert(two_pointers(lst, 1) == -1 == two_pointers(lst, 40) == two_pointers(lst, 0))\n",
        "\n",
        "print(f\"Linear Search Time: {end_linear-start_linear}\\nBinary Search Time: {end_binary-start_binary}\")\n",
        "print(\"Not compared to\")\n",
        "print(f\"Two Pointers Time: {end_two_pointers-start_two_pointers}\")"
      ],
      "metadata": {
        "colab": {
          "base_uri": "https://localhost:8080/"
        },
        "id": "bgZCi9LcM5Vc",
        "outputId": "7a77efd3-484c-47f1-95ee-56423f4176f8"
      },
      "execution_count": 87,
      "outputs": [
        {
          "output_type": "stream",
          "name": "stdout",
          "text": [
            "Linear Search Time: 0.00010132789611816406\n",
            "Binary Search Time: 7.581710815429688e-05\n",
            "Not compared to\n",
            "Two Pointers Time: 0.00010347366333007812\n"
          ]
        }
      ]
    },
    {
      "cell_type": "code",
      "source": [
        "import collections\n",
        "def bfs(node, graph):\n",
        "  traversal_order = []\n",
        "  queue = collections.deque([node])\n",
        "  visited = [node]\n",
        "\n",
        "  while(queue):\n",
        "    s = queue.popleft()\n",
        "    traversal_order.append(s)\n",
        "\n",
        "    for i in graph[s]:\n",
        "      if(i not in visited):\n",
        "        queue.append(i)\n",
        "        visited.append(i)\n",
        "\n",
        "  return traversal_order\n",
        "\n",
        "def dfs(node, graph):\n",
        "  traversal_order = []\n",
        "  stack = [node]\n",
        "  visited = [node]\n",
        "\n",
        "  while(stack):\n",
        "    s = stack.pop()\n",
        "    traversal_order.append(s)\n",
        "\n",
        "    for i in graph[s]:\n",
        "      if(i not in visited):\n",
        "        stack.append(i)\n",
        "        visited.append(i)\n",
        "\n",
        "  return traversal_order\n",
        "\n",
        "\n",
        "graph = {1: [2, 5],\n",
        "     2: [3, 5],\n",
        "     3: [2, 4],\n",
        "     4: [3, 5, 6],\n",
        "     5: [1, 2, 4],\n",
        "     6: [4],\n",
        "}\n",
        "\n",
        "start_bfs = time.time()\n",
        "print(f\"BFS: {bfs(1, graph)}\")\n",
        "end_bfs = time.time()\n",
        "start_dfs = time.time()\n",
        "print(f\"DFS: {dfs(1, graph)}\")\n",
        "end_dfs = time.time()\n",
        "print(f\"BFS Time: {end_bfs-start_bfs}\\nDFS Time: {end_dfs-start_dfs}\")\n",
        "# Graph visual below:"
      ],
      "metadata": {
        "colab": {
          "base_uri": "https://localhost:8080/"
        },
        "id": "n5Bl_dBiOICp",
        "outputId": "1b9ba946-11f4-4c8b-cdc1-fb4d9d1f240f"
      },
      "execution_count": 88,
      "outputs": [
        {
          "output_type": "stream",
          "name": "stdout",
          "text": [
            "BFS: [1, 2, 5, 3, 4, 6]\n",
            "DFS: [1, 5, 4, 6, 3, 2]\n",
            "BFS Time: 0.004526853561401367\n",
            "DFS Time: 0.003825664520263672\n"
          ]
        }
      ]
    },
    {
      "cell_type": "markdown",
      "source": [
        "![Graph](https://cdn-media-1.freecodecamp.org/images/3MPRx8M27DX95wWbfufQ7MSAWytADyK1Nrwu)"
      ],
      "metadata": {
        "id": "EWvZVlOQUr50"
      }
    },
    {
      "cell_type": "code",
      "source": [
        "# Tree Traversal\n",
        "def tree_traversal(root, traversal_type): # Master Traversal, specifies which type of tree traversal\n",
        "  if(root):\n",
        "    if(traversal_type.lower() == 'pre'): print(root.val, end=' ')\n",
        "    tree_traversal(root.left)\n",
        "    if(traversal_type.lower() == 'in'): print(root.val, end=' ')\n",
        "    tree_traversal(root.right)\n",
        "    if(traversal_type.lower() == 'post'): print(root.val, end=' ')\n",
        "\n",
        "\n",
        "def pre_order(root):\n",
        "  if(root):\n",
        "    print(root.val, end=' ')\n",
        "    pre_order(root.left)\n",
        "    pre_order(root.right)\n",
        "\n",
        "def in_order(root):\n",
        "  if(root):\n",
        "    in_order(root.left)\n",
        "    print(root.val, end=' ')\n",
        "    in_order(root.right)\n",
        "\n",
        "def post_order(root):\n",
        "  if(root):\n",
        "    post_order(root.left)\n",
        "    post_order(root.right)\n",
        "    print(root.val, end=' ')"
      ],
      "metadata": {
        "id": "7bvZoQaqUa5k"
      },
      "execution_count": 92,
      "outputs": []
    },
    {
      "cell_type": "markdown",
      "source": [
        "###### Sliding Window"
      ],
      "metadata": {
        "id": "nYWzPlvXZ0Mv"
      }
    },
    {
      "cell_type": "code",
      "source": [
        "def fixed_window(arr, k): # maximum sum of subarray size k\n",
        "  currSum = sum(arr[:k])\n",
        "  max_sum = currSum\n",
        "\n",
        "  for i in range(len(arr)-k):\n",
        "    currSum += arr[i+k] - arr[i]\n",
        "    max_sum = max(max_sum, currSum)\n",
        "\n",
        "  return max_sum\n",
        "\n",
        "def dynamic_window(arr, k): # minimum subarray sum\n",
        "  start, end = 0, 0\n",
        "  min_len = float('inf')\n",
        "\n",
        "  while(end < len(arr)):\n",
        "    end += 1\n",
        "\n",
        "    while(start < end and sum(arr[start:end]) >= k):\n",
        "      min_len = min(min_len, len(arr[start:end]))\n",
        "      start += 1\n",
        "\n",
        "  if(min_len > len(arr)): return 0\n",
        "  return min_len\n",
        "\n",
        "\n",
        "assert(fixed_window([1, 2, 3], 0) == 0)\n",
        "assert(fixed_window([1, 2, 3], 1) == 3)\n",
        "assert(fixed_window([1, 2, 3, 4, 9, 3, 7, 6, 8, 3], 2) == 14)\n",
        "assert(fixed_window([1, 2, 3, 4, 9, 3, 7, 6, 8, 3], 5) == 33)\n",
        "assert(dynamic_window([2,3,1,2,4,3], 7) == 2)\n",
        "assert(dynamic_window([1,4,4], 4) == 1)\n",
        "assert(dynamic_window([1,1,1,1,1,1,1,1], 11) == 0)\n",
        "\n",
        "start_fixed = time.time()\n",
        "max_subarray_sum = fixed_window([1, 2, 3, 4, 9, 3, 7, 6, 8, 3], 3)\n",
        "end_fixed = time.time()\n",
        "start_dynamic = time.time()\n",
        "min_subarray_size = dynamic_window([1, 2, 3, 4, 9, 3, 7, 6, 8, 3], 14)\n",
        "end_dynamic = time.time()\n",
        "print(max_subarray_sum == 21, min_subarray_size == 2)\n",
        "print(f\"Fixed Sliding Window: {end_fixed-start_fixed}\")\n",
        "print(\"Not compared to\")\n",
        "print(f\"Dynamic Sliding Window: {end_dynamic-start_dynamic}\")"
      ],
      "metadata": {
        "colab": {
          "base_uri": "https://localhost:8080/"
        },
        "id": "XvTJEG3CO5im",
        "outputId": "574bae92-ca2f-4767-e7f5-08fe711d65da"
      },
      "execution_count": 93,
      "outputs": [
        {
          "output_type": "stream",
          "name": "stdout",
          "text": [
            "True True\n",
            "Fixed Sliding Window: 6.628036499023438e-05\n",
            "Not compared to\n",
            "Dynamic Sliding Window: 6.771087646484375e-05\n"
          ]
        }
      ]
    },
    {
      "cell_type": "markdown",
      "source": [
        "###### Flood Fill"
      ],
      "metadata": {
        "id": "Q5eGvPHwZ6i1"
      }
    },
    {
      "cell_type": "code",
      "source": [
        "def fill(screen, row, col, color, new_color):\n",
        "  if(row < 0 or row >= len(screen) or col < 0 or col >= len(screen[0]) or screen[row][col] != color):\n",
        "    return\n",
        "\n",
        "  screen[row][col] = new_color\n",
        "\n",
        "  fill(screen, row-1, col, color, new_color) # up\n",
        "  fill(screen, row, col+1, color, new_color) # right\n",
        "  fill(screen, row+1, col, color, new_color) # down\n",
        "  fill(screen, row, col-1, color, new_color) # left\n",
        "\n",
        "def flood_fill(screen, row, col, new_color):\n",
        "  if(screen[row][col] == new_color):\n",
        "    return screen\n",
        "\n",
        "  fill(screen, row, col, screen[row][col], new_color)\n",
        "\n",
        "color_screen = [\n",
        "    [0, 0, 1, 1, 1, 2, 3, 3, 3, 2],\n",
        "    [2, 0, 3, 3, 3, 3, 3, 0, 2, 2],\n",
        "    [2, 2, 3, 1, 1, 2, 2, 2, 0, 2],\n",
        "    [2, 2, 1, 1, 0, 0, 2, 3, 3, 3],\n",
        "    [2, 2, 2, 1, 0, 0, 3, 3, 3, 0],\n",
        "    [2, 0, 1, 1, 1, 0, 0, 0, 3, 0],\n",
        "    [1, 1, 1, 1, 1, 0, 0, 3, 3, 0],\n",
        "    [0, 1, 1, 3, 0, 0, 3, 3, 3, 0],\n",
        "    [0, 2, 1, 3, 3, 0, 2, 2, 3, 1],\n",
        "    [2, 2, 1, 1, 3, 3, 3, 3, 3, 1],\n",
        "]\n",
        "\n",
        "flood_fill(color_screen, 8, 3, 6)\n",
        "flood_fill(color_screen, 3, 2, 9)\n",
        "[print(i) for i in color_screen]"
      ],
      "metadata": {
        "colab": {
          "base_uri": "https://localhost:8080/"
        },
        "id": "PXd1QcmAbThb",
        "outputId": "6edc49fe-3364-4519-d12b-f52f40fc5432"
      },
      "execution_count": 96,
      "outputs": [
        {
          "output_type": "stream",
          "name": "stdout",
          "text": [
            "[0, 0, 1, 1, 1, 2, 3, 3, 3, 2]\n",
            "[2, 0, 3, 3, 3, 3, 3, 0, 2, 2]\n",
            "[2, 2, 3, 9, 9, 2, 2, 2, 0, 2]\n",
            "[2, 2, 9, 9, 0, 0, 2, 6, 6, 6]\n",
            "[2, 2, 2, 9, 0, 0, 6, 6, 6, 0]\n",
            "[2, 0, 9, 9, 9, 0, 0, 0, 6, 0]\n",
            "[9, 9, 9, 9, 9, 0, 0, 6, 6, 0]\n",
            "[0, 9, 9, 6, 0, 0, 6, 6, 6, 0]\n",
            "[0, 2, 9, 6, 6, 0, 2, 2, 6, 1]\n",
            "[2, 2, 9, 9, 6, 6, 6, 6, 6, 1]\n"
          ]
        },
        {
          "output_type": "execute_result",
          "data": {
            "text/plain": [
              "[None, None, None, None, None, None, None, None, None, None]"
            ]
          },
          "metadata": {},
          "execution_count": 96
        }
      ]
    },
    {
      "cell_type": "markdown",
      "source": [
        "###### Kruskal / Prim"
      ],
      "metadata": {
        "id": "z4bGI2xUZ75L"
      }
    },
    {
      "cell_type": "code",
      "source": [
        "def kruskal(graph): # MST. Pick smallest length\n",
        "  mst = dict()\n",
        "\n",
        "  while(len(mst) < len(graph)): # exactly n-1 edges in a MST, where n is # of vertices\n",
        "    min_distance = float('inf')\n",
        "    node_a, node_b = None, None\n",
        "\n",
        "    for i in graph:\n",
        "      # when both nodes are in MST already\n",
        "      if(graph[i] and i in mst and min(graph[i], key=graph[i].get) in mst):\n",
        "        node_b = min(graph[i], key=graph[i].get)\n",
        "        graph[i].pop(node_b)\n",
        "        graph[node_b].pop(i)\n",
        "\n",
        "      elif(graph[i] and min(graph[i].values()) < min_distance):\n",
        "        min_distance = min(graph[i].values())\n",
        "        node_a, node_b = i, min(graph[i], key=graph[i].get)\n",
        "\n",
        "    if(node_a or node_b):\n",
        "      graph[node_a].pop(node_b)\n",
        "      graph[node_b].pop(node_a)\n",
        "\n",
        "      if(node_a not in mst and node_b not in mst):\n",
        "        mst[node_a] = {node_b: min_distance}\n",
        "        mst[node_b] = {node_a: min_distance}\n",
        "      elif(node_a not in mst):\n",
        "        mst[node_a] = {node_b: min_distance}\n",
        "        mst[node_b].update({node_a: min_distance})\n",
        "      elif(node_b not in mst):\n",
        "        mst[node_a].update({node_b: min_distance})\n",
        "        mst[node_b] = {node_a: min_distance}\n",
        "      else:\n",
        "        mst[node_a].update({node_b: min_distance})\n",
        "        mst[node_b].update({node_a: min_distance})\n",
        "\n",
        "  return mst"
      ],
      "metadata": {
        "id": "prFLbRBpLrcA"
      },
      "execution_count": 4,
      "outputs": []
    },
    {
      "cell_type": "code",
      "source": [
        "def prim(graph): # MST. Pick a node\n",
        "  mst = dict()\n",
        "\n",
        "  routes = dict()\n",
        "  routes[list(graph.keys())[0]] = graph[list(graph.keys())[0]]  # pick first node, and then greedy\n",
        "\n",
        "  while(len(mst) < len(graph)): # exactly n-1 edges in a MST, where n is # of vertices\n",
        "    min_distance = float('inf')\n",
        "    node_a, node_b = None, None\n",
        "\n",
        "    for i in routes:\n",
        "      # when both nodes are in MST already\n",
        "      if(routes[i] and i in mst and min(graph[i], key=graph[i].get) in mst):\n",
        "        node_b = min(graph[i], key=graph[i].get)\n",
        "        graph[i].pop(node_b)\n",
        "        graph[node_b].pop(i)\n",
        "\n",
        "      elif(routes[i] and min(routes[i].values()) < min_distance):\n",
        "        min_distance = min(routes[i].values())\n",
        "        node_a, node_b = i, min(routes[i], key=routes[i].get)\n",
        "\n",
        "    routes[node_b] = graph[node_b]\n",
        "    if(node_a or node_b):\n",
        "      routes[node_a].pop(node_b)\n",
        "      routes[node_b].pop(node_a)\n",
        "\n",
        "      if(node_a not in mst and node_b not in mst):\n",
        "        mst[node_a] = {node_b: min_distance}\n",
        "        mst[node_b] = {node_a: min_distance}\n",
        "      elif(node_a not in mst):\n",
        "        mst[node_a] = {node_b: min_distance}\n",
        "        mst[node_b].update({node_a: min_distance})\n",
        "      elif(node_b not in mst):\n",
        "        mst[node_a].update({node_b: min_distance})\n",
        "        mst[node_b] = {node_a: min_distance}\n",
        "      else:\n",
        "        mst[node_a].update({node_b: min_distance})\n",
        "        mst[node_b].update({node_a: min_distance})\n",
        "\n",
        "  return mst"
      ],
      "metadata": {
        "id": "6pMF05dLOfck"
      },
      "execution_count": 17,
      "outputs": []
    },
    {
      "cell_type": "code",
      "source": [
        "# My own unique method\n",
        "# 1. Pick a node (keep a list \"nodes\" that keeps track of unvisited nodes)\n",
        "# 2. Select the shortest edge on selected node\n",
        "# 3. if picked node or selected shortest edge node are not in the mst:\n",
        "#       - remove both nodes from unvisited \"nodes\" array\n",
        "#       - add nodes with edge distance to mst (both ways since undirected)\n",
        "# 4. else: set new_node to false because both nodes are already in mst,\n",
        "#       - random node from unvisited \"node\" list is selected upon next iteration\n",
        "\n",
        "def greedy_pop_traveller(graph):\n",
        "  mst = dict()\n",
        "  nodes = list(graph.keys())\n",
        "\n",
        "  new_node = False # if none of the edges\n",
        "  while(len(mst) < len(graph)): # exactly n-1 edges in a MST, where n is # of vertices\n",
        "    if(not new_node):\n",
        "      picked_node = nodes.pop()\n",
        "\n",
        "    shortest_node = min(graph[picked_node], key=graph[picked_node].get)\n",
        "    distance = min(graph[picked_node].values())\n",
        "\n",
        "    if(shortest_node not in mst or picked_node not in mst):\n",
        "\n",
        "      if(picked_node in nodes):\n",
        "        nodes.pop(picked_node)\n",
        "      if(shortest_node in nodes):\n",
        "        nodes.pop(shortest_node)\n",
        "\n",
        "      if(shortest_node not in mst and picked_node not in mst):\n",
        "        mst[picked_node] = {shortest_node: distance}\n",
        "        mst[shortest_node] = {picked_node: distance}\n",
        "      elif(shortest_node not in mst):\n",
        "        mst[picked_node].update({shortest_node: distance})\n",
        "        mst[shortest_node] = {picked_node: distance}\n",
        "      elif(picked_node not in mst):\n",
        "        mst[picked_node] = {shortest_node: distance}\n",
        "        mst[shortest_node].update({picked_node: distance})\n",
        "      else:\n",
        "        mst[picked_node].update({shortest_node: distance})\n",
        "        mst[shortest_node].update({picked_node: distance})\n",
        "\n",
        "      graph[shortest_node].pop(picked_node)\n",
        "      graph[picked_node].pop(shortest_node)\n",
        "      picked_node = shortest_node\n",
        "      new_node = True\n",
        "\n",
        "    else:\n",
        "      new_node = False\n",
        "\n",
        "  return mst"
      ],
      "metadata": {
        "id": "mMu7nE9lBIFU"
      },
      "execution_count": 21,
      "outputs": []
    },
    {
      "cell_type": "code",
      "source": [
        "# Test\n",
        "graph = {\n",
        "    0: {1: 3, 4: 8, 3: 7},\n",
        "    1: {0: 3, 2: 1, 3: 4},\n",
        "    2: {1: 1, 3: 2},\n",
        "    3: {0: 7, 1: 4, 2: 2, 4: 3},\n",
        "    4: {0: 8, 3: 3},\n",
        "}\n",
        "\n",
        "start_kruskal = time.time()\n",
        "kruskal_out = kruskal(graph)\n",
        "end_kruskal = time.time()\n",
        "kruskal_time = end_kruskal - start_kruskal\n",
        "\n",
        "graph = {\n",
        "    0: {1: 3, 4: 8, 3: 7},\n",
        "    1: {0: 3, 2: 1, 3: 4},\n",
        "    2: {1: 1, 3: 2},\n",
        "    3: {0: 7, 1: 4, 2: 2, 4: 3},\n",
        "    4: {0: 8, 3: 3},\n",
        "}\n",
        "\n",
        "start_prim = time.time()\n",
        "prim_out = prim(graph)\n",
        "end_prim = time.time()\n",
        "prim_time = end_prim - start_prim\n",
        "\n",
        "graph = {\n",
        "    0: {1: 3, 4: 8, 3: 7},\n",
        "    1: {0: 3, 2: 1, 3: 4},\n",
        "    2: {1: 1, 3: 2},\n",
        "    3: {0: 7, 1: 4, 2: 2, 4: 3},\n",
        "    4: {0: 8, 3: 3},\n",
        "}\n",
        "\n",
        "start_gp = time.time()\n",
        "gp_out = greedy_pop_traveller(graph)\n",
        "end_gp = time.time()\n",
        "gp_time = end_gp - start_gp\n",
        "\n",
        "# Minimum Spanning Trees\n",
        "print(kruskal_out)\n",
        "print(prim_out)\n",
        "print(gp_out)\n",
        "print(kruskal_out == prim_out == gp_out)\n",
        "assert(kruskal_out == prim_out == gp_out)\n",
        "print(f\"Kruskal's:\\n{kruskal_time}\\nPrim's:\\n{prim_time}\")\n",
        "print(f\"Greedy Pop:\\n{gp_time}\")"
      ],
      "metadata": {
        "colab": {
          "base_uri": "https://localhost:8080/"
        },
        "id": "NgQBT2wqMDP9",
        "outputId": "828f1fe2-1fdb-4120-f422-703f5a9919fb"
      },
      "execution_count": 86,
      "outputs": [
        {
          "output_type": "stream",
          "name": "stdout",
          "text": [
            "{1: {2: 1, 0: 3}, 2: {1: 1, 3: 2}, 3: {2: 2, 4: 3}, 0: {1: 3}, 4: {3: 3}}\n",
            "{0: {1: 3}, 1: {0: 3, 2: 1}, 2: {1: 1, 3: 2}, 3: {2: 2, 4: 3}, 4: {3: 3}}\n",
            "{4: {3: 3}, 3: {4: 3, 2: 2}, 2: {3: 2, 1: 1}, 1: {2: 1, 0: 3}, 0: {1: 3}}\n",
            "True\n",
            "Kruskal's:\n",
            "0.00015044212341308594\n",
            "Prim's:\n",
            "0.00015997886657714844\n",
            "Greedy Pop:\n",
            "0.00010728836059570312\n"
          ]
        }
      ]
    },
    {
      "cell_type": "markdown",
      "source": [
        "<!-- ![Weighted Graph](https://www.cs.emory.edu/~cheung/Courses/253/Syllabus/Graph/FIGS/Dijkstra/weight01.gif) -->\n",
        "\n",
        "![Weighted Graph](https://ucarecdn.com/a67cb888-aa0c-424b-8c7f-847e38dd5691/)"
      ],
      "metadata": {
        "id": "0-oNrBAsnw33"
      }
    },
    {
      "cell_type": "markdown",
      "source": [
        "###### Backtracking"
      ],
      "metadata": {
        "id": "bRhdGlJbaB9F"
      }
    },
    {
      "cell_type": "code",
      "source": [
        "# Leetcode 17 (Backtracking)\n",
        "# def letterCombinations(digits: str) -> List[str]:\n",
        "def letterCombinations(digits: str):\n",
        "  if not digits: return []\n",
        "  phone = { '2': 'abc', '3': 'def', '4': 'ghi', '5': 'jkl',\n",
        "      '6': 'mno', '7': 'pqrs', '8': 'tuv', '9': 'wxyz' }\n",
        "  def recursive(combination, next_digits):\n",
        "      if(not next_digits): orders.append(combination)\n",
        "      else:\n",
        "          for i in phone[next_digits[0]]:\n",
        "              recursive(combination+i, next_digits[1:])\n",
        "  orders = []\n",
        "  recursive(\"\", digits)\n",
        "  return orders\n",
        "\n",
        "answer = letterCombinations(digits=\"23\")\n",
        "leetcode_answer = [\"ad\",\"ae\",\"af\",\"bd\",\"be\",\"bf\",\"cd\",\"ce\",\"cf\"]\n",
        "assert(answer == leetcode_answer)"
      ],
      "metadata": {
        "id": "DwFbA0METd_T"
      },
      "execution_count": 72,
      "outputs": []
    },
    {
      "cell_type": "code",
      "source": [
        "# Leetcode 216 (Backtracking)\n",
        "# def combinationSum3(k: int, n: int) -> List[List[int]]:\n",
        "def combinationSum3(k: int, n: int):\n",
        "  if(k <= 0 or n <= 0): return []\n",
        "  def recursive(arr):\n",
        "      if(len(arr) == k and sum(arr) == n):\n",
        "        possibilities.add(tuple(arr))\n",
        "      elif(len(arr) < k and sum(arr) < n):\n",
        "          for i in range(1, 10):\n",
        "              if(not arr or i > max(arr)):\n",
        "                recursive(arr + [i])\n",
        "  possibilities = set()\n",
        "  recursive([])\n",
        "  return possibilities\n",
        "\n",
        "answer = combinationSum3(k=3, n=7)\n",
        "assert(answer == {(1, 2, 4)})"
      ],
      "metadata": {
        "id": "nQzEFBlBTfgz"
      },
      "execution_count": 73,
      "outputs": []
    },
    {
      "cell_type": "markdown",
      "source": [
        "###### Kadane"
      ],
      "metadata": {
        "id": "EAP5mIfbaFr5"
      }
    },
    {
      "cell_type": "code",
      "source": [
        "# Find the maximum subarray sum\n",
        "def kadane(arr):\n",
        "  max_sum, max_current = 0, 0\n",
        "\n",
        "  for i in range(len(arr)):\n",
        "    max_current = max(arr[i], max_current + arr[i])\n",
        "    max_sum = max(max_sum, max_current)\n",
        "\n",
        "  return max_sum"
      ],
      "metadata": {
        "id": "fAe1ntitYs9b"
      },
      "execution_count": 81,
      "outputs": []
    },
    {
      "cell_type": "code",
      "source": [
        "# Find the maximum subarray sum and its corresponding subarray\n",
        "def kadane_return_subarray(arr):\n",
        "  max_subarray, idx = [], 0\n",
        "  max_sum, max_current = 0, 0\n",
        "\n",
        "  for i in range(len(arr)):\n",
        "    if(max_current + arr[i] > arr[i]):\n",
        "      max_current += arr[i]\n",
        "    else:\n",
        "      idx = i\n",
        "      max_current = arr[i]\n",
        "\n",
        "    if(max_current > max_sum):\n",
        "      max_sum = max_current\n",
        "      max_subarray = arr[idx:i+1]\n",
        "\n",
        "  return max_sum, max_subarray"
      ],
      "metadata": {
        "id": "dAyk9WSWP6k0"
      },
      "execution_count": 84,
      "outputs": []
    },
    {
      "cell_type": "code",
      "source": [
        "# Test Kadane\n",
        "lst = [1, -2, 3, 1, -1]\n",
        "print(kadane(lst))\n",
        "lst = [1, -2, 3, 1, -1, -10, 8]\n",
        "print(kadane(lst))\n",
        "lst = [1, -2, 3, 1, -1, -1, 8]\n",
        "print(kadane(lst))\n",
        "\n",
        "lst = [1, -2, 3, 1, -1]\n",
        "print(kadane_return_subarray(lst))\n",
        "lst = [1, -2, 3, 1, -1, -10, 8]\n",
        "print(kadane_return_subarray(lst))\n",
        "lst = [1, -2, 3, 1, -1, -1, 8]\n",
        "print(kadane_return_subarray(lst))"
      ],
      "metadata": {
        "colab": {
          "base_uri": "https://localhost:8080/"
        },
        "id": "DgjNZURJZLHX",
        "outputId": "dc865c73-ffbe-4aa5-ac4c-5e11e6d76be7"
      },
      "execution_count": 85,
      "outputs": [
        {
          "output_type": "stream",
          "name": "stdout",
          "text": [
            "4\n",
            "8\n",
            "10\n",
            "(4, [3, 1])\n",
            "(8, [8])\n",
            "(10, [3, 1, -1, -1, 8])\n"
          ]
        }
      ]
    },
    {
      "cell_type": "markdown",
      "source": [
        "###### Dijkstra"
      ],
      "metadata": {
        "id": "bxRYhhwvaHlt"
      }
    },
    {
      "cell_type": "code",
      "source": [
        "# shortest path from one node to all nodes\n",
        "def dijkstra(node, graph):\n",
        "  path = dict({node: 0}) # distance to each node\n",
        "  unvisited = list(graph.keys()) # unvisited nodes\n",
        "  unvisited.remove(node)\n",
        "  distance = 0 # distance to current node\n",
        "\n",
        "  while(unvisited):\n",
        "    for i in graph[node]:\n",
        "      if(i not in path):\n",
        "        path[i] = graph[node][i] + path[node]\n",
        "      elif(graph[node][i] + path[node] < path[i]):\n",
        "        path[i] = graph[node][i] + path[node]\n",
        "\n",
        "    # get nodes and distance from starting node to node\n",
        "    # this is for choosing the node with the shortest edge among the nodes in current \"path\" map\n",
        "    # but also among the nodes in the unvisisted array (avoids picking starting node: 0)\n",
        "    next_node_contenders = {j:path[j] for j in unvisited if j in path}\n",
        "\n",
        "    # if(next_node_contenders):\n",
        "    node = min(next_node_contenders, key=next_node_contenders.get) # smallest edge node\n",
        "    # else:\n",
        "    #   node = unvisited[0] # next unvisited node\n",
        "\n",
        "    unvisited.remove(node)\n",
        "\n",
        "  return path"
      ],
      "metadata": {
        "id": "Hg3Js2uEnuTI"
      },
      "execution_count": 71,
      "outputs": []
    },
    {
      "cell_type": "code",
      "source": [
        "# Test Dijkstra\n",
        "directed_graph = {\n",
        "    0: {1: 3, 4: 8, 3: 7},\n",
        "    1: {2: 1, 3: 4},\n",
        "    2: {},\n",
        "    3: {2: 2},\n",
        "    4: {3: 3},\n",
        "}\n",
        "\n",
        "start = time.time()\n",
        "shortest_path = dijkstra(0, directed_graph)\n",
        "end = time.time()\n",
        "print(shortest_path)\n",
        "assert(shortest_path == {0: 0, 1: 3, 4: 8, 3: 7, 2: 4})\n",
        "\n",
        "\n",
        "directed_graph = {\n",
        "    'A': {'B': 4, 'C': 2},\n",
        "    'B': {'C': 3, 'D': 2, 'E': 3},\n",
        "    'C': {'B': 1, 'D': 4, 'E': 5},\n",
        "    'D': {},\n",
        "    'E': {'D': 1},\n",
        "}\n",
        "\n",
        "start = time.time()\n",
        "shortest_path = dijkstra('A', directed_graph)\n",
        "end = time.time()\n",
        "print(shortest_path)\n",
        "assert(shortest_path == {'A': 0, 'B': 3, 'C': 2, 'D': 5, 'E': 6})"
      ],
      "metadata": {
        "colab": {
          "base_uri": "https://localhost:8080/"
        },
        "id": "prkZKH72MGA6",
        "outputId": "b27360f8-5964-4b4a-dcdd-941c0dd522d3"
      },
      "execution_count": 70,
      "outputs": [
        {
          "output_type": "stream",
          "name": "stdout",
          "text": [
            "{0: 0, 1: 3, 4: 8, 3: 7, 2: 4}\n",
            "{'A': 0, 'B': 3, 'C': 2, 'D': 5, 'E': 6}\n"
          ]
        }
      ]
    },
    {
      "cell_type": "markdown",
      "source": [
        "![Weighted Directed Graph](https://ucarecdn.com/d624d487-da51-42ad-a520-cc3fb8f253bd/)"
      ],
      "metadata": {
        "id": "LcjDfz51L8dL"
      }
    },
    {
      "cell_type": "markdown",
      "source": [
        "###### Bellman-Ford / Floyd-Warshall / Ford-Fulkerson"
      ],
      "metadata": {
        "id": "alCwMJZkaJRL"
      }
    },
    {
      "cell_type": "code",
      "source": [
        "# shortest path from one node to all nodes, negative edges allowed\n",
        "def bellman_ford():\n",
        "  pass\n",
        "\n",
        "# shortest path between all pairs of nodes, negative edges allowed\n",
        "def floyd_warshall():\n",
        "  pass\n",
        "\n",
        "# max flow\n",
        "def ford_fulkerson():\n",
        "  pass"
      ],
      "metadata": {
        "id": "pju0n8hxSyFT"
      },
      "execution_count": null,
      "outputs": []
    },
    {
      "cell_type": "markdown",
      "source": [
        "![Cyclic Graph](https://study.com/cimages/multimages/16/cyclic_graphs.png)\n",
        "\n",
        "![Max Flow Graph](https://i.stack.imgur.com/Ru3rf.jpg)\n",
        "\n",
        "![Max Flow Graph](https://media.geeksforgeeks.org/wp-content/cdn-uploads/ford_fulkerson11.png)\n",
        "\n",
        "![Max Flow Graph](https://www.geeksforgeeks.org/wp-content/uploads/ford_fulkerson2.png)\n",
        "\n"
      ],
      "metadata": {
        "id": "QkmowR2-S1Im"
      }
    }
  ]
}